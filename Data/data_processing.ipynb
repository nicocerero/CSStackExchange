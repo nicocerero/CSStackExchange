{
 "cells": [
  {
   "cell_type": "markdown",
   "metadata": {},
   "source": [
    "# Explanation\n",
    "\n",
    "We want to aggregate the processed data together, obtaining a JSON file with roughly the following structure:\n",
    "```json\n",
    "{\n",
    "    \"id\": 45043602,\n",
    "    \"title\": \"X\",\n",
    "    \"content\": \"...\",\n",
    "    \"tags\": [\n",
    "        {\n",
    "            \"id\":34343,\n",
    "            \"tagName\": \"cpu\",\n",
    "            \"description\":\"...\"\n",
    "        }\n",
    "    ],\n",
    "    'parentId': null,\n",
    "    \"creationDate\": \"xx/xx/xxxx\",\n",
    "    \"viewCount\": 15,\n",
    "    “score”: 224,\n",
    "    “lastCountUpdate”: \"xx/xx/xxxx\",\n",
    "    \"owner\": {\n",
    "        \"id\": \"12353\",\n",
    "        \"...\": \"...\"\n",
    "    },\n",
    "    \"comments\": [\n",
    "        {\n",
    "            \"comment_id\": 2434,\n",
    "            \"made_by\": \"user_id\",\n",
    "            \"content\": \"...\"\n",
    "        }\n",
    "    ]\n",
    "}\n",
    "\n",
    "```"
   ]
  },
  {
   "cell_type": "code",
   "execution_count": 1,
   "metadata": {},
   "outputs": [],
   "source": [
    "import json\n",
    "import pandas as pd"
   ]
  },
  {
   "cell_type": "code",
   "execution_count": 1,
   "metadata": {},
   "outputs": [
    {
     "data": {
      "text/plain": [
       "'Datasets/Votes.json'"
      ]
     },
     "execution_count": 1,
     "metadata": {},
     "output_type": "execute_result"
    }
   ],
   "source": [
    "'Datasets/Comments.json',\n",
    "'Datasets/Posts.json',\n",
    "'Datasets/Tags.json',\n",
    "'Datasets/Users.json',\n",
    "'Datasets/Votes.json'"
   ]
  },
  {
   "cell_type": "markdown",
   "metadata": {},
   "source": [
    "# Read files"
   ]
  },
  {
   "cell_type": "code",
   "execution_count": 2,
   "metadata": {},
   "outputs": [
    {
     "data": {
      "text/html": [
       "<div>\n",
       "<style scoped>\n",
       "    .dataframe tbody tr th:only-of-type {\n",
       "        vertical-align: middle;\n",
       "    }\n",
       "\n",
       "    .dataframe tbody tr th {\n",
       "        vertical-align: top;\n",
       "    }\n",
       "\n",
       "    .dataframe thead th {\n",
       "        text-align: right;\n",
       "    }\n",
       "</style>\n",
       "<table border=\"1\" class=\"dataframe\">\n",
       "  <thead>\n",
       "    <tr style=\"text-align: right;\">\n",
       "      <th></th>\n",
       "      <th>id</th>\n",
       "      <th>postTypeId</th>\n",
       "      <th>acceptedAnswerId</th>\n",
       "      <th>creationDate</th>\n",
       "      <th>score</th>\n",
       "      <th>viewCount</th>\n",
       "      <th>body</th>\n",
       "      <th>ownerUserId</th>\n",
       "      <th>title</th>\n",
       "      <th>tags</th>\n",
       "      <th>parentId</th>\n",
       "    </tr>\n",
       "  </thead>\n",
       "  <tbody>\n",
       "    <tr>\n",
       "      <th>0</th>\n",
       "      <td>2</td>\n",
       "      <td>1</td>\n",
       "      <td>28.0</td>\n",
       "      <td>2012-03-06T19:06:05.667</td>\n",
       "      <td>19</td>\n",
       "      <td>1128.0</td>\n",
       "      <td>&lt;p&gt;The set difference operator (e.g., &lt;code&gt;EX...</td>\n",
       "      <td>5</td>\n",
       "      <td>Does the 'difference' operation add expressive...</td>\n",
       "      <td>[database-theory, relational-algebra, finite-m...</td>\n",
       "      <td>NaN</td>\n",
       "    </tr>\n",
       "  </tbody>\n",
       "</table>\n",
       "</div>"
      ],
      "text/plain": [
       "   id  postTypeId  acceptedAnswerId             creationDate  score  \\\n",
       "0   2           1              28.0  2012-03-06T19:06:05.667     19   \n",
       "\n",
       "   viewCount                                               body  ownerUserId  \\\n",
       "0     1128.0  <p>The set difference operator (e.g., <code>EX...            5   \n",
       "\n",
       "                                               title  \\\n",
       "0  Does the 'difference' operation add expressive...   \n",
       "\n",
       "                                                tags  parentId  \n",
       "0  [database-theory, relational-algebra, finite-m...       NaN  "
      ]
     },
     "execution_count": 2,
     "metadata": {},
     "output_type": "execute_result"
    }
   ],
   "source": [
    "# Open JSON files\n",
    "\n",
    "with open(\"Datasets/posts.json\", \"r\", encoding=\"utf-8\") as f_posts:\n",
    "    df_posts = pd.read_json(f_posts)\n",
    "    \n",
    "df_posts.head(1)\n"
   ]
  },
  {
   "cell_type": "code",
   "execution_count": 3,
   "metadata": {},
   "outputs": [
    {
     "data": {
      "text/html": [
       "<div>\n",
       "<style scoped>\n",
       "    .dataframe tbody tr th:only-of-type {\n",
       "        vertical-align: middle;\n",
       "    }\n",
       "\n",
       "    .dataframe tbody tr th {\n",
       "        vertical-align: top;\n",
       "    }\n",
       "\n",
       "    .dataframe thead th {\n",
       "        text-align: right;\n",
       "    }\n",
       "</style>\n",
       "<table border=\"1\" class=\"dataframe\">\n",
       "  <thead>\n",
       "    <tr style=\"text-align: right;\">\n",
       "      <th></th>\n",
       "      <th>tagName</th>\n",
       "      <th>description</th>\n",
       "    </tr>\n",
       "  </thead>\n",
       "  <tbody>\n",
       "    <tr>\n",
       "      <th>0</th>\n",
       "      <td>cpu-pipelines</td>\n",
       "      <td>In computing, a pipeline, also known as a data...</td>\n",
       "    </tr>\n",
       "  </tbody>\n",
       "</table>\n",
       "</div>"
      ],
      "text/plain": [
       "         tagName                                        description\n",
       "0  cpu-pipelines  In computing, a pipeline, also known as a data..."
      ]
     },
     "execution_count": 3,
     "metadata": {},
     "output_type": "execute_result"
    }
   ],
   "source": [
    "with open(\"Datasets/tags.json\", \"r\", encoding=\"utf-8\") as f_tags:\n",
    "    df_tags = pd.read_json(f_tags)\n",
    "\n",
    "df_tags.head(1)"
   ]
  },
  {
   "cell_type": "code",
   "execution_count": 4,
   "metadata": {},
   "outputs": [
    {
     "data": {
      "text/html": [
       "<div>\n",
       "<style scoped>\n",
       "    .dataframe tbody tr th:only-of-type {\n",
       "        vertical-align: middle;\n",
       "    }\n",
       "\n",
       "    .dataframe tbody tr th {\n",
       "        vertical-align: top;\n",
       "    }\n",
       "\n",
       "    .dataframe thead th {\n",
       "        text-align: right;\n",
       "    }\n",
       "</style>\n",
       "<table border=\"1\" class=\"dataframe\">\n",
       "  <thead>\n",
       "    <tr style=\"text-align: right;\">\n",
       "      <th></th>\n",
       "      <th>postId</th>\n",
       "      <th>text</th>\n",
       "      <th>userId</th>\n",
       "    </tr>\n",
       "  </thead>\n",
       "  <tbody>\n",
       "    <tr>\n",
       "      <th>0</th>\n",
       "      <td>2</td>\n",
       "      <td>To show that they have the same expressive pow...</td>\n",
       "      <td>10.0</td>\n",
       "    </tr>\n",
       "  </tbody>\n",
       "</table>\n",
       "</div>"
      ],
      "text/plain": [
       "   postId                                               text  userId\n",
       "0       2  To show that they have the same expressive pow...    10.0"
      ]
     },
     "execution_count": 4,
     "metadata": {},
     "output_type": "execute_result"
    }
   ],
   "source": [
    "with open(\"Datasets/comments.json\", \"r\", encoding=\"utf-8\") as f_comments:\n",
    "    df_comments = pd.read_json(f_comments)\n",
    "    \n",
    "df_comments.head(1)"
   ]
  },
  {
   "cell_type": "markdown",
   "metadata": {},
   "source": [
    "# Add tags with information to list of tags in posts."
   ]
  },
  {
   "cell_type": "code",
   "execution_count": 5,
   "metadata": {},
   "outputs": [],
   "source": [
    "l = []\n",
    "for tag_list in df_posts['tags']:\n",
    "    temp = []\n",
    "\n",
    "    # Check if there are any tags in the first place\n",
    "    if tag_list:\n",
    "        \"\"\"Iterate over the list of tags, for each tag\n",
    "        get the information from tags dataframe, convert\n",
    "        to dictionary and add it to list.\n",
    "        After that, add that list to another list.\n",
    "        \"\"\"\n",
    "        for tag in tag_list:\n",
    "            t_info = df_tags.loc[df_tags['tagName'] == tag]\n",
    "            temp.append(t_info.to_dict(orient=\"records\")[0])\n",
    "\n",
    "\n",
    "    l.append(temp)"
   ]
  },
  {
   "cell_type": "code",
   "execution_count": 6,
   "metadata": {},
   "outputs": [],
   "source": [
    "df_posts['tags'] = l"
   ]
  },
  {
   "cell_type": "code",
   "execution_count": 7,
   "metadata": {},
   "outputs": [
    {
     "data": {
      "text/plain": [
       "[{'tagName': 'database-theory',\n",
       "  'description': 'Database theory encapsulates a broad range of topics related to the study and research of the theoretical realm of databases and database management systems.\\nTheoretical aspects of data management include, among other areas, the foundations of query languages, computational complexity and expressive...'},\n",
       " {'tagName': 'relational-algebra',\n",
       "  'description': 'In database theory, relational algebra is a theory that uses algebraic structures with a well-founded semantics for modeling data, and defining queries on it. The theory was introduced by Edgar F. Codd.\\nThe main application of relational algebra is to provide a theoretical foundation for relational databases...'},\n",
       " {'tagName': 'finite-model-theory',\n",
       "  'description': 'Finite model theory (FMT) is a subarea of model theory (MT). MT is the branch of logic which deals with the relation between a formal language (syntax) and its interpretations (semantics). FMT is a restriction of MT to interpretations on finite structures, which have a finite universe.\\n\\nSince many central...'}]"
      ]
     },
     "execution_count": 7,
     "metadata": {},
     "output_type": "execute_result"
    }
   ],
   "source": [
    "df_posts['tags'].iloc[0]"
   ]
  },
  {
   "cell_type": "markdown",
   "metadata": {},
   "source": [
    "# Add list of comments to each post"
   ]
  },
  {
   "cell_type": "code",
   "execution_count": 8,
   "metadata": {},
   "outputs": [],
   "source": [
    "l = []\n",
    "\n",
    "for post_id in df_posts['id']:\n",
    "    # Find dataframe with all comments for a Post\n",
    "    temp_df = df_comments.loc[df_comments['postId'] == post_id]\n",
    "    temp = []\n",
    "    if not temp_df.empty:\n",
    "        # Get the comments, add them as a dictionary to a list\n",
    "        for i, v in temp_df.iterrows():\n",
    "            temp.append(v.to_dict())\n",
    "\n",
    "\n",
    "    l.append(temp)"
   ]
  },
  {
   "cell_type": "code",
   "execution_count": 9,
   "metadata": {},
   "outputs": [],
   "source": [
    "df_posts['comments'] = l"
   ]
  },
  {
   "cell_type": "code",
   "execution_count": 10,
   "metadata": {},
   "outputs": [
    {
     "data": {
      "text/plain": [
       "[{'postId': 3,\n",
       "  'text': 'Merge sort is $O(n\\\\log n)$ in the worst case, and sorting an array of integers where there is a known bound on the size of the integers can be done in $O(n)$ time with a counting sort.',\n",
       "  'userId': 43.0},\n",
       " {'postId': 3,\n",
       "  'text': '[Three Beautiful Quicksorts](http://video.google.com/videoplay?docid=-1031789501179533828) by Jon Bently might be of interest (Google Tech Talk).',\n",
       "  'userId': 67.0},\n",
       " {'postId': 3,\n",
       "  'text': 'http://www.sorting-algorithms.com/ has a pretty thorough comparison of sorting algorithms.',\n",
       "  'userId': 71.0},\n",
       " {'postId': 3,\n",
       "  'text': '@rgrig my bad! I must not write in a state of deep sleepiness. I will correct that. Thanks!',\n",
       "  'userId': 24.0}]"
      ]
     },
     "execution_count": 10,
     "metadata": {},
     "output_type": "execute_result"
    }
   ],
   "source": [
    "df_posts['comments'].iloc[1][:4]"
   ]
  },
  {
   "cell_type": "markdown",
   "metadata": {},
   "source": [
    "# Save new Posts dataframe as JSON"
   ]
  },
  {
   "cell_type": "code",
   "execution_count": 11,
   "metadata": {},
   "outputs": [
    {
     "name": "stdout",
     "output_type": "stream",
     "text": [
      "Final Posts dataset successfully converted to JSON!\n"
     ]
    }
   ],
   "source": [
    "df_json = df_posts.to_json(orient=\"records\")\n",
    "parsed = json.loads(df_json)\n",
    "\n",
    "with open(\"Datasets/final_posts.json\", \"w\", encoding=\"utf-8\") as f:\n",
    "    json.dump(parsed, f, indent=4)\n",
    "    print(\"Final Posts dataset successfully converted to JSON!\")"
   ]
  }
 ],
 "metadata": {
  "interpreter": {
   "hash": "1136484b14b640bc92a741468fef70e605cd3454f76349c2dcd7ac77dee3e181"
  },
  "kernelspec": {
   "display_name": "Python 3.8.5 64-bit (system)",
   "language": "python",
   "name": "python3"
  },
  "language_info": {
   "codemirror_mode": {
    "name": "ipython",
    "version": 3
   },
   "file_extension": ".py",
   "mimetype": "text/x-python",
   "name": "python",
   "nbconvert_exporter": "python",
   "pygments_lexer": "ipython3",
   "version": "3.8.5"
  },
  "orig_nbformat": 4
 },
 "nbformat": 4,
 "nbformat_minor": 2
}
