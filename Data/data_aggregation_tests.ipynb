{
 "cells": [
  {
   "cell_type": "code",
   "execution_count": 4,
   "metadata": {},
   "outputs": [],
   "source": [
    "from requests.sessions import Session\n",
    "import requests\n",
    "import json\n",
    "import pandas as pd\n",
    "\n",
    "from bs4 import BeautifulSoup # HTML parser. Used to strip HTML.\n",
    "\n",
    "\n",
    "import xmltodict # XML parser.\n",
    "\n",
    "import scrape"
   ]
  },
  {
   "cell_type": "code",
   "execution_count": 5,
   "metadata": {},
   "outputs": [],
   "source": [
    "obj = None\n",
    "\n",
    "# Make sure that Python can read the xml and convert it to a dict.\n",
    "with open('Datasets/Posts.xml', 'r', encoding=\"utf8\") as file:\n",
    "        obj = xmltodict.parse(file.read())\n",
    "\n"
   ]
  },
  {
   "cell_type": "code",
   "execution_count": 7,
   "metadata": {},
   "outputs": [
    {
     "data": {
      "text/plain": [
       "'posts'"
      ]
     },
     "execution_count": 7,
     "metadata": {},
     "output_type": "execute_result"
    }
   ],
   "source": [
    "list(obj)[0]"
   ]
  },
  {
   "cell_type": "code",
   "execution_count": 33,
   "metadata": {},
   "outputs": [
    {
     "data": {
      "text/plain": [
       "\"They probably meant you to solve it using dynamic programming. Since I'm guessing this is an exercise, I won't say anything more on this front. Also, your program is incorrect: it doesn't consider the actions of Bar.\\nThe game is not really a game of strategy, since there are no choices involved, only chance. In order to compute the expected value that Foo gets, it is enough to compute the probability that Foo takes each particular item. Let $p_{a,b}$ be the probability that Foo takes an item which is the $a$th from the left, $b$th from the right ($a,b \\\\geq 0$, total number of elements is $a+b+1$). Then\\n$$\\n\\\\begin{align*}\\np(0,0) &= 1, \\\\\\\\\\np(0,1) &= 1/2, \\\\\\\\\\np(1,0) &= 1/2, \\\\\\\\\\np(1,1) &= 1/2, \\\\\\\\\\np(0,b+2) &= 1/2 + p(0,b)/4, \\\\\\\\\\np(a+2,0) &= 1/2 + p(a,0)/4, \\\\\\\\\\np(1,b+2) &= p(0,b+1)/2 + p(1,b)/4, \\\\\\\\\\np(a+2,1) &= p(a+1,0)/2 + p(a,1)/4, \\\\\\\\\\np(a+2,b+2) &= (p(a+2,b)+2p(a+1,b+1)+p(a,b+2))/4.\\n\\\\end{align*}\\n$$\\nYou could precompute the requisite values for $a+b+1 \\\\leq 2000$ and then your program will be blazingly fast.\\nIt turns out that for fixed $c$, $p(c,n-c)$ tends to a limit $p_c = 1/2(1 + (-1)^c/3^{c+1})$. To see why, note first that $p_0$ is the ability that if you and a friend alternate tossing fair coins, yours will come up HEAD first. There are many ways to see that $p_0 = 2/3$. Next, we have the formula $p_{c+1} = p_0 (1-p_c) + (1-p_0) p_c$ (exercise), from which the formula for $p_c$ follows by induction.\\n\""
      ]
     },
     "execution_count": 33,
     "metadata": {},
     "output_type": "execute_result"
    }
   ],
   "source": [
    "posts = obj['posts']['row'] # Ger the actual list of posts.\n",
    "\n",
    "\n",
    "# Check if HTML parser works. (Doesn't really do well with markdown languaje..)\n",
    "p = posts[3434]['@Body']\n",
    "\n",
    "BeautifulSoup(p, \"lxml\").text"
   ]
  },
  {
   "cell_type": "code",
   "execution_count": 37,
   "metadata": {},
   "outputs": [
    {
     "data": {
      "text/plain": [
       "Index(['@Id', '@PostTypeId', '@AcceptedAnswerId', '@CreationDate', '@Score',\n",
       "       '@ViewCount', '@Body', '@OwnerUserId', '@LastEditorUserId',\n",
       "       '@LastEditDate', '@LastActivityDate', '@Title', '@Tags', '@AnswerCount',\n",
       "       '@CommentCount', '@FavoriteCount', '@ContentLicense', '@ParentId',\n",
       "       '@OwnerDisplayName', '@ClosedDate', '@LastEditorDisplayName',\n",
       "       '@CommunityOwnedDate'],\n",
       "      dtype='object')"
      ]
     },
     "execution_count": 37,
     "metadata": {},
     "output_type": "execute_result"
    }
   ],
   "source": [
    "# Convert to pandas dataframe.\n",
    "df = pd.DataFrame.from_dict(posts)\n",
    "\n",
    "\n",
    "# Get set of Post types. Only types 1 (actual questions) and 2 (replies) are needed.\n",
    "df.columns"
   ]
  }
 ],
 "metadata": {
  "interpreter": {
   "hash": "1136484b14b640bc92a741468fef70e605cd3454f76349c2dcd7ac77dee3e181"
  },
  "kernelspec": {
   "display_name": "Python 3.8.5 64-bit (system)",
   "language": "python",
   "name": "python3"
  },
  "language_info": {
   "codemirror_mode": {
    "name": "ipython",
    "version": 3
   },
   "file_extension": ".py",
   "mimetype": "text/x-python",
   "name": "python",
   "nbconvert_exporter": "python",
   "pygments_lexer": "ipython3",
   "version": "3.8.5"
  },
  "orig_nbformat": 4
 },
 "nbformat": 4,
 "nbformat_minor": 2
}
