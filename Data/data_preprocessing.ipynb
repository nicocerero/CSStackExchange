{
 "cells": [
  {
   "cell_type": "markdown",
   "metadata": {},
   "source": [
    "# Libraries + read function declaration"
   ]
  },
  {
   "cell_type": "code",
   "execution_count": 31,
   "metadata": {},
   "outputs": [],
   "source": [
    "# For data preprocessing, aggregation.\n",
    "import xmltodict # XML parser.\n",
    "import json\n",
    "import pandas as pd # To manage dataframes.\n",
    "from bs4 import BeautifulSoup # HTML parser used to strip HTML from Posts.\n",
    "\n",
    "# For data scraping.\n",
    "from requests.sessions import Session\n",
    "import requests\n",
    "import scrape # Scaper from Wikipedia.\n",
    "\n",
    "def xml_to_data_frame(file_path: str):\n",
    "    with open(file_path, 'r', encoding=\"utf8\") as f:\n",
    "        dict = xmltodict.parse(f.read())\n",
    "    \n",
    "    key = list(dict)[0] # Get variable key.\n",
    "    data = dict[key]['row'] # Used to access the data itself.\n",
    "    df = pd.DataFrame.from_dict(data)\n",
    "\n",
    "    print(f\"\\\"{key}\\\" file successfully read and converted to dataframe.\\n\" + \n",
    "        f\"Number of rows:{df.shape[0]}\\n************************\\n\")\n",
    "    \n",
    "    return df"
   ]
  },
  {
   "cell_type": "markdown",
   "metadata": {},
   "source": [
    "# Manual data cleaning & aggreation\n",
    "Each dataset has to be manually processed.\n",
    "\n",
    "## 1/6 - Comments"
   ]
  },
  {
   "cell_type": "code",
   "execution_count": 32,
   "metadata": {},
   "outputs": [
    {
     "name": "stdout",
     "output_type": "stream",
     "text": [
      "\"comments\" file successfully read and converted to dataframe.\n",
      "Number of rows:174347\n",
      "************************\n",
      "\n"
     ]
    }
   ],
   "source": [
    "df_comments = xml_to_data_frame('Datasets/Comments.xml')"
   ]
  },
  {
   "cell_type": "code",
   "execution_count": 33,
   "metadata": {},
   "outputs": [
    {
     "data": {
      "text/plain": [
       "Index(['@Id', '@PostId', '@Score', '@Text', '@CreationDate', '@UserId',\n",
       "       '@ContentLicense', '@UserDisplayName'],\n",
       "      dtype='object')"
      ]
     },
     "execution_count": 33,
     "metadata": {},
     "output_type": "execute_result"
    }
   ],
   "source": [
    "df_comments.columns"
   ]
  },
  {
   "cell_type": "code",
   "execution_count": 34,
   "metadata": {},
   "outputs": [
    {
     "data": {
      "text/html": [
       "<div>\n",
       "<style scoped>\n",
       "    .dataframe tbody tr th:only-of-type {\n",
       "        vertical-align: middle;\n",
       "    }\n",
       "\n",
       "    .dataframe tbody tr th {\n",
       "        vertical-align: top;\n",
       "    }\n",
       "\n",
       "    .dataframe thead th {\n",
       "        text-align: right;\n",
       "    }\n",
       "</style>\n",
       "<table border=\"1\" class=\"dataframe\">\n",
       "  <thead>\n",
       "    <tr style=\"text-align: right;\">\n",
       "      <th></th>\n",
       "      <th>id</th>\n",
       "      <th>postId</th>\n",
       "      <th>text</th>\n",
       "      <th>userId</th>\n",
       "    </tr>\n",
       "  </thead>\n",
       "  <tbody>\n",
       "    <tr>\n",
       "      <th>0</th>\n",
       "      <td>8</td>\n",
       "      <td>2</td>\n",
       "      <td>To show that they have the same expressive pow...</td>\n",
       "      <td>10</td>\n",
       "    </tr>\n",
       "  </tbody>\n",
       "</table>\n",
       "</div>"
      ],
      "text/plain": [
       "  id postId                                               text userId\n",
       "0  8      2  To show that they have the same expressive pow...     10"
      ]
     },
     "execution_count": 34,
     "metadata": {},
     "output_type": "execute_result"
    }
   ],
   "source": [
    "# We only want to keep Id, PostId, Text and UserId\n",
    "df_comments = df_comments.reindex(columns=[\"@Id\", \"@PostId\", \"@Text\",\"@UserId\"])\n",
    "\n",
    "# Renaming of the columns\n",
    "df_comments = df_comments.rename(columns={\"@Id\": \"id\", \"@PostId\": \"postId\", \"@Text\": \"text\", \"@UserId\": \"userId\"})\n",
    "\n",
    "df_comments.head(1)"
   ]
  },
  {
   "cell_type": "code",
   "execution_count": 35,
   "metadata": {},
   "outputs": [],
   "source": [
    "# Finally, write into json\n",
    "df_json = df_comments.to_json(orient=\"records\")\n",
    "parsed = json.loads(df_json)\n",
    "\n",
    "with open(\"Datasets/comments.json\", \"w\", encoding=\"utf-8\") as f:\n",
    "    json.dump(parsed, f, indent=4)\n",
    "    print(\"Comments dataset succesfully converted to JSON!\")"
   ]
  },
  {
   "cell_type": "markdown",
   "metadata": {},
   "source": [
    "## 2/6 - Posts"
   ]
  },
  {
   "cell_type": "code",
   "execution_count": 37,
   "metadata": {},
   "outputs": [
    {
     "name": "stdout",
     "output_type": "stream",
     "text": [
      "\"posts\" file successfully read and converted to dataframe.\n",
      "Number of rows:92896\n",
      "************************\n",
      "\n"
     ]
    }
   ],
   "source": [
    "df_posts = xml_to_data_frame('Datasets/Posts.xml')"
   ]
  },
  {
   "cell_type": "code",
   "execution_count": 38,
   "metadata": {},
   "outputs": [
    {
     "data": {
      "text/plain": [
       "Index(['@Id', '@PostTypeId', '@AcceptedAnswerId', '@CreationDate', '@Score',\n",
       "       '@ViewCount', '@Body', '@OwnerUserId', '@LastEditorUserId',\n",
       "       '@LastEditDate', '@LastActivityDate', '@Title', '@Tags', '@AnswerCount',\n",
       "       '@CommentCount', '@FavoriteCount', '@ContentLicense', '@ParentId',\n",
       "       '@OwnerDisplayName', '@ClosedDate', '@LastEditorDisplayName',\n",
       "       '@CommunityOwnedDate'],\n",
       "      dtype='object')"
      ]
     },
     "execution_count": 38,
     "metadata": {},
     "output_type": "execute_result"
    }
   ],
   "source": [
    "df_posts.columns"
   ]
  },
  {
   "cell_type": "code",
   "execution_count": null,
   "metadata": {},
   "outputs": [],
   "source": [
    "\"\"\" We want to keep Id, PostTypeI, AcceptedAnswerId, CreationDate, Score,\n",
    "        ViewCount, Body, OwnerUserId, Title, Tags, AnsweCount, ParentIt\n",
    "\"\"\"\n",
    "df_posts = df_posts.reindex(columns=[\"@Id\", \"@PostId\", \"@Text\",\"@UserId\"])\n",
    "\n",
    "# Renaming of the columns\n",
    "df_posts = df_posts.rename(columns={\"@Id\": \"id\", \"@PostId\": \"postId\", \"@Text\": \"text\", \"@UserId\": \"userId\"})\n",
    "\n",
    "df_posts.head(1)"
   ]
  },
  {
   "cell_type": "code",
   "execution_count": null,
   "metadata": {},
   "outputs": [],
   "source": [
    "# Finally, write into json\n",
    "df_json = df_posts.to_json(orient=\"records\")\n",
    "parsed = json.loads(df_json)\n",
    "\n",
    "with open(\"Datasets/comments.json\", \"w\", encoding=\"utf-8\") as f:\n",
    "    json.dump(parsed, f, indent=4)\n",
    "    print(\"Comments dataset succesfully converted to JSON!\")"
   ]
  },
  {
   "cell_type": "code",
   "execution_count": 17,
   "metadata": {},
   "outputs": [
    {
     "name": "stdout",
     "output_type": "stream",
     "text": [
      "\"comments\" file successfully read and converted to dataframe.\n",
      "Number of rows:174347\n",
      "************************\n",
      "\n",
      "\"posts\" file successfully read and converted to dataframe.\n",
      "Number of rows:92896\n",
      "************************\n",
      "\n",
      "\"tags\" file successfully read and converted to dataframe.\n",
      "Number of rows:637\n",
      "************************\n",
      "\n",
      "\"users\" file successfully read and converted to dataframe.\n",
      "Number of rows:119115\n",
      "************************\n",
      "\n",
      "\"votes\" file successfully read and converted to dataframe.\n",
      "Number of rows:399089\n",
      "************************\n",
      "\n"
     ]
    }
   ],
   "source": [
    "# For testing purpouses.\n",
    "# WORKS.\n",
    "# 18.6 secons to execute.\n",
    "def test_xml_reading():\n",
    "    list_of_xml = [\n",
    "    'Datasets/Comments.xml',\n",
    "    'Datasets/Posts.xml',\n",
    "    'Datasets/Tags.xml',\n",
    "    'Datasets/Users.xml',\n",
    "    'Datasets/Votes.xml'\n",
    "    ]\n",
    "\n",
    "    for file in list_of_xml:\n",
    "        xml_to_data_frame(file)\n",
    "\n",
    "test_xml_reading()"
   ]
  }
 ],
 "metadata": {
  "interpreter": {
   "hash": "1136484b14b640bc92a741468fef70e605cd3454f76349c2dcd7ac77dee3e181"
  },
  "kernelspec": {
   "display_name": "Python 3.8.5 64-bit (system)",
   "language": "python",
   "name": "python3"
  },
  "language_info": {
   "codemirror_mode": {
    "name": "ipython",
    "version": 3
   },
   "file_extension": ".py",
   "mimetype": "text/x-python",
   "name": "python",
   "nbconvert_exporter": "python",
   "pygments_lexer": "ipython3",
   "version": "3.8.5"
  },
  "orig_nbformat": 4
 },
 "nbformat": 4,
 "nbformat_minor": 2
}
